{
 "cells": [
  {
   "cell_type": "markdown",
   "metadata": {},
   "source": [
    "# Assignment 1: PyTorch"
   ]
  },
  {
   "cell_type": "code",
   "execution_count": 1,
   "metadata": {},
   "outputs": [],
   "source": [
    "import time\n",
    "import torch"
   ]
  },
  {
   "cell_type": "markdown",
   "metadata": {},
   "source": [
    "#### Problem 1: Multiple views of storage\n",
    "\n",
    "Generate this matrix with no python loop\n",
    "\n",
    "![1](./images/assignment/1.1.png)\n"
   ]
  },
  {
   "cell_type": "code",
   "execution_count": 2,
   "metadata": {},
   "outputs": [
    {
     "name": "stdout",
     "output_type": "stream",
     "text": [
      "# 1 #\n",
      "tensor([[1, 2, 1, 1, 1, 1, 2, 1, 1, 1, 1, 2, 1],\n",
      "        [2, 2, 2, 2, 2, 2, 2, 2, 2, 2, 2, 2, 2],\n",
      "        [1, 2, 1, 1, 1, 1, 2, 1, 1, 1, 1, 2, 1],\n",
      "        [1, 2, 1, 3, 3, 1, 2, 1, 3, 3, 1, 2, 1],\n",
      "        [1, 2, 1, 3, 3, 1, 2, 1, 3, 3, 1, 2, 1],\n",
      "        [1, 2, 1, 1, 1, 1, 2, 1, 1, 1, 1, 2, 1],\n",
      "        [2, 2, 2, 2, 2, 2, 2, 2, 2, 2, 2, 2, 2],\n",
      "        [1, 2, 1, 1, 1, 1, 2, 1, 1, 1, 1, 2, 1],\n",
      "        [1, 2, 1, 3, 3, 1, 2, 1, 3, 3, 1, 2, 1],\n",
      "        [1, 2, 1, 3, 3, 1, 2, 1, 3, 3, 1, 2, 1],\n",
      "        [1, 2, 1, 1, 1, 1, 2, 1, 1, 1, 1, 2, 1],\n",
      "        [2, 2, 2, 2, 2, 2, 2, 2, 2, 2, 2, 2, 2],\n",
      "        [1, 2, 1, 1, 1, 1, 2, 1, 1, 1, 1, 2, 1]], dtype=torch.int8)\n"
     ]
    }
   ],
   "source": [
    "m = torch.full((13, 13), 1.0, dtype = torch.int8)\n",
    "\n",
    "m[3:5, 3:5] = 3\n",
    "m[8:10, 3:5] = 3\n",
    "m[3:5, 8:10] = 3\n",
    "m[8:10, 8:10] = 3\n",
    "\n",
    "m[:, 1::5] = 2\n",
    "m[1::5, :] = 2\n",
    "\n",
    "print(m)"
   ]
  },
  {
   "cell_type": "markdown",
   "metadata": {},
   "source": [
    "#### Problem 2: Eigendecomposition\n",
    "\n",
    "![2](./images/assignment/1.2.png)"
   ]
  },
  {
   "cell_type": "code",
   "execution_count": 3,
   "metadata": {},
   "outputs": [
    {
     "name": "stdout",
     "output_type": "stream",
     "text": [
      "# 2 #\n",
      "Eigenvalues tensor([ 1.0000+0.j,  2.0000+0.j,  3.0000+0.j,  4.0000+0.j,  5.0000+0.j,  6.0000+0.j,\n",
      "         7.0000+0.j,  8.0000+0.j,  9.0000+0.j, 10.0000+0.j, 11.0000+0.j, 12.0000+0.j,\n",
      "        13.0000+0.j, 14.0000+0.j, 15.0000+0.j, 16.0000+0.j, 17.0000+0.j, 18.0000+0.j,\n",
      "        19.0000+0.j, 20.0000+0.j])\n"
     ]
    }
   ],
   "source": [
    "m = torch.empty(20, 20).normal_()\n",
    "d = torch.diag(torch.arange(1, m.size(0)+1).float())\n",
    "q = m.inverse().mm(d).mm(m)\n",
    "v = torch.linalg.eig(q).eigenvalues\n",
    "\n",
    "print('Eigenvalues', v[v.real.sort()[1]])"
   ]
  },
  {
   "cell_type": "markdown",
   "metadata": {},
   "source": [
    "#### Problem 3: Flops per second\n",
    "\n",
    "![3](./images/assignment/1.3.png)"
   ]
  },
  {
   "cell_type": "code",
   "execution_count": 4,
   "metadata": {},
   "outputs": [
    {
     "name": "stdout",
     "output_type": "stream",
     "text": [
      "# 3 #\n",
      "Throughput 9.203364e+10 flop/s\n"
     ]
    }
   ],
   "source": [
    "d = 5000\n",
    "a = torch.empty(d, d).normal_()\n",
    "b = torch.empty(d, d).normal_()\n",
    "\n",
    "time1 = time.perf_counter()\n",
    "c = torch.mm(a, b)\n",
    "time2 = time.perf_counter()\n",
    "\n",
    "print('Throughput {:e} flop/s'.format((d * d * d)/(time2 - time1)))"
   ]
  },
  {
   "cell_type": "markdown",
   "metadata": {},
   "source": [
    "#### Problem 4: Playing with Strides\n",
    "\n",
    "![4](./images/assignment/1.4.png)"
   ]
  },
  {
   "cell_type": "code",
   "execution_count": 5,
   "metadata": {},
   "outputs": [
    {
     "name": "stdout",
     "output_type": "stream",
     "text": [
      "# 4 #\n",
      "Speed ratio 1180.400096164049\n",
      "Sanity check: error is  0.0\n"
     ]
    }
   ],
   "source": [
    "def mul_row(m):\n",
    "    r = torch.torch.empty(m.size())\n",
    "    for i in range(m.size(0)):\n",
    "        for j in range(m.size(1)):\n",
    "            r[i, j] = m[i, j] * (i + 1)\n",
    "    return r\n",
    "\n",
    "def mul_row_fast(m):\n",
    "    c = torch.arange(1, m.size(0) + 1).view(-1, 1).float()\n",
    "    return m.mul(c)\n",
    "\n",
    "m = torch.empty(1000, 400).normal_()\n",
    "\n",
    "time1 = time.perf_counter()\n",
    "a = mul_row(m)\n",
    "time2 = time.perf_counter()\n",
    "b = mul_row_fast(m)\n",
    "time3 = time.perf_counter()\n",
    "\n",
    "print('Speed ratio', (time2 - time1) / (time3 - time2))\n",
    "\n",
    "print('Sanity check: error is ', torch.norm(a - b).item())"
   ]
  }
 ],
 "metadata": {
  "kernelspec": {
   "display_name": "Python 3.9.13 ('ada')",
   "language": "python",
   "name": "python3"
  },
  "language_info": {
   "codemirror_mode": {
    "name": "ipython",
    "version": 3
   },
   "file_extension": ".py",
   "mimetype": "text/x-python",
   "name": "python",
   "nbconvert_exporter": "python",
   "pygments_lexer": "ipython3",
   "version": "3.9.13"
  },
  "orig_nbformat": 4,
  "vscode": {
   "interpreter": {
    "hash": "b47ca7d216b8a465b979ff7f012da33d157a8eca88a6176851bc787c68093159"
   }
  }
 },
 "nbformat": 4,
 "nbformat_minor": 2
}
